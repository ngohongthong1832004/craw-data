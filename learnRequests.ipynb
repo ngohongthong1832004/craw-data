{
 "cells": [
  {
   "cell_type": "code",
   "execution_count": 5,
   "id": "f1ac496c",
   "metadata": {},
   "outputs": [
    {
     "name": "stdout",
     "output_type": "stream",
     "text": [
      "Requirement already satisfied: beautifulsoup4 in d:\\anaconda\\lib\\site-packages (4.11.1)\n",
      "Requirement already satisfied: soupsieve>1.2 in d:\\anaconda\\lib\\site-packages (from beautifulsoup4) (2.3.1)\n",
      "Requirement already satisfied: requests in d:\\anaconda\\lib\\site-packages (2.28.1)\n",
      "Requirement already satisfied: urllib3<1.27,>=1.21.1 in d:\\anaconda\\lib\\site-packages (from requests) (1.26.11)\n",
      "Requirement already satisfied: idna<4,>=2.5 in d:\\anaconda\\lib\\site-packages (from requests) (3.3)\n",
      "Requirement already satisfied: certifi>=2017.4.17 in d:\\anaconda\\lib\\site-packages (from requests) (2022.9.14)\n",
      "Requirement already satisfied: charset-normalizer<3,>=2 in d:\\anaconda\\lib\\site-packages (from requests) (2.0.4)\n",
      "Collecting html5lib\n",
      "  Downloading html5lib-1.1-py2.py3-none-any.whl (112 kB)\n",
      "     ------------------------------------ 112.2/112.2 kB 186.3 kB/s eta 0:00:00\n",
      "Requirement already satisfied: six>=1.9 in d:\\anaconda\\lib\\site-packages (from html5lib) (1.16.0)\n",
      "Requirement already satisfied: webencodings in d:\\anaconda\\lib\\site-packages (from html5lib) (0.5.1)\n",
      "Installing collected packages: html5lib\n",
      "Successfully installed html5lib-1.1\n",
      "Collecting bs4\n",
      "  Using cached bs4-0.0.1.tar.gz (1.1 kB)\n",
      "  Preparing metadata (setup.py): started\n",
      "  Preparing metadata (setup.py): finished with status 'done'\n",
      "Requirement already satisfied: beautifulsoup4 in d:\\anaconda\\lib\\site-packages (from bs4) (4.11.1)\n",
      "Requirement already satisfied: soupsieve>1.2 in d:\\anaconda\\lib\\site-packages (from beautifulsoup4->bs4) (2.3.1)\n",
      "Building wheels for collected packages: bs4\n",
      "  Building wheel for bs4 (setup.py): started\n",
      "  Building wheel for bs4 (setup.py): finished with status 'done'\n",
      "  Created wheel for bs4: filename=bs4-0.0.1-py3-none-any.whl size=1257 sha256=83f7f7d577faee3b5f1e7e87f0d3f26862fd490057e99477f53af7fe0ecd5634\n",
      "  Stored in directory: c:\\users\\hp\\appdata\\local\\pip\\cache\\wheels\\73\\2b\\cb\\099980278a0c9a3e57ff1a89875ec07bfa0b6fcbebb9a8cad3\n",
      "Successfully built bs4\n",
      "Installing collected packages: bs4\n",
      "Successfully installed bs4-0.0.1\n"
     ]
    }
   ],
   "source": [
    "!pip install beautifulsoup4\n",
    "!pip install requests\n",
    "!pip install html5lib\n",
    "!pip install bs4"
   ]
  },
  {
   "cell_type": "code",
   "execution_count": 1,
   "id": "46c6274d",
   "metadata": {},
   "outputs": [],
   "source": [
    "from bs4 import BeautifulSoup\n",
    "import json\n",
    "import requests\n"
   ]
  },
  {
   "cell_type": "code",
   "execution_count": 2,
   "id": "1d29be7b",
   "metadata": {},
   "outputs": [],
   "source": [
    "URL = \"https://hdtoday.tv/movie?page=1\"\n",
    "headers = {'User-Agent': \"Mozilla/5.0 (Windows NT 10.0; Win64; x64) AppleWebKit/537.36 (KHTML, like Gecko) Chrome/42.0.2311.135 Safari/537.36 Edge/12.246\"}\n",
    "# Here the user agent is for Edge browser on windows 10. You can find your browser user agent from the above given link.\n",
    "r = requests.get(url=URL, headers=headers)\n"
   ]
  },
  {
   "cell_type": "code",
   "execution_count": 3,
   "id": "59c0bfa3",
   "metadata": {},
   "outputs": [],
   "source": [
    "JSON_arr = []\n",
    "soup = BeautifulSoup(r.content, 'html5lib') # If this line causes an error, run 'pip install html5lib' or install html5lib\n",
    "# print(soup.prettify())\n"
   ]
  },
  {
   "cell_type": "code",
   "execution_count": 4,
   "id": "4921131c",
   "metadata": {},
   "outputs": [],
   "source": [
    "source = soup.find(\"div\", attrs = \"block_area-content block_area-list film_list film_list-grid\")\n",
    "# print(source)"
   ]
  },
  {
   "cell_type": "code",
   "execution_count": 31,
   "id": "ac84f254",
   "metadata": {},
   "outputs": [
    {
     "name": "stdout",
     "output_type": "stream",
     "text": [
      "None\n",
      "Asterix & Obelix: The Middle Kingdom\n",
      "None\n",
      "Robots\n",
      "None\n",
      "White Men Can't Jump\n",
      "None\n",
      "Prince Andrew: Banished\n",
      "None\n",
      "Arini by Love.inc\n",
      "None\n",
      "Adventures in Game Chasing\n",
      "None\n",
      "Mutzenbacher\n",
      "None\n",
      "AUM!\n",
      "None\n",
      "Phantom Project\n",
      "None\n",
      "War of the Worlds: The Attack\n",
      "None\n",
      "The Mount 2\n",
      "None\n",
      "Stay Out of the Basement\n",
      "None\n",
      "Caviar\n",
      "None\n",
      "The Blue Caftan\n",
      "None\n",
      "Full River Red\n",
      "None\n",
      "Sweat\n",
      "None\n",
      "CT Fletcher: My Magnificent Obsession\n",
      "None\n",
      "The Taste of Money\n",
      "None\n",
      "Missing 411: The U.F.O. Connection\n",
      "None\n",
      "Tupac: Resurrection\n",
      "None\n",
      "Ghost Book Obakezukan\n",
      "None\n",
      "Big George Foreman: The Miraculous Story of the Once and Future Heavyweight Champion of the World\n",
      "None\n",
      "The Journey: A Music Special from Andrea Bocelli\n",
      "None\n",
      "Just Jake\n",
      "None\n",
      "That Great British Documentary\n",
      "None\n",
      "Lucas Waterfill: Public Inconvenience\n",
      "None\n",
      "The Nutcracker and The Magic Flute\n",
      "None\n",
      "BlackBerry\n",
      "None\n",
      "Moving On\n",
      "None\n",
      "Zarna Garg: One in a Billion\n",
      "None\n",
      "Polite Society\n",
      "None\n",
      "Anna Nicole Smith: You Don't Know Me\n"
     ]
    }
   ],
   "source": [
    "listItemFilm = source.findAll('div', attrs = 'flw-item')\n",
    "for item in listItemFilm :\n",
    "    link = \"https://hdtoday.tv\" + item.find(\"a\", attrs = \"film-poster-ahref flw-item-tip\")[\"href\"]\n",
    "    # print(link)\n",
    "    r = requests.get(url = link)\n",
    "    pageFilm = BeautifulSoup(r.content, 'html5lib')\n",
    "    \n",
    "    film = {}\n",
    "    \n",
    "    poster = pageFilm.find(\"img\", class_=\"film-poster-img\")[\"src\"]\n",
    "    des = pageFilm.find(\"div\", class_=\"description\").text.strip()\n",
    "    name = pageFilm.find(\"h2\", class_=\"heading-name\").a.text\n",
    "    \n",
    "    film[\"poster\"] = poster\n",
    "    \n",
    "    film[\"name\"] = name\n",
    "    film[\"des\"] = des\n",
    "\n",
    "    JSON_arr.append(film)\n",
    "\n",
    "\n",
    "    # linkEsp = pageFilm.find(\"div\" , class_ = \"ss-episodes\")\n",
    "    \n",
    "    print(linkEsp)\n",
    "    # for esp in linkEsp :\n",
    "    #     print(esp)\n",
    "\n",
    "    print(name)\n",
    "    # print(\"==============================================================================================================\")"
   ]
  },
  {
   "cell_type": "code",
   "execution_count": null,
   "id": "cc023592",
   "metadata": {},
   "outputs": [],
   "source": [
    "with open(\"learnRequests-19-5-2023.json\",\"w\") as file:\n",
    "    json.dump(JSON_arr, file, indent = 4)"
   ]
  },
  {
   "cell_type": "code",
   "execution_count": null,
   "id": "f8bf7fe7",
   "metadata": {},
   "outputs": [],
   "source": []
  }
 ],
 "metadata": {
  "kernelspec": {
   "display_name": "Python 3 (ipykernel)",
   "language": "python",
   "name": "python3"
  },
  "language_info": {
   "codemirror_mode": {
    "name": "ipython",
    "version": 3
   },
   "file_extension": ".py",
   "mimetype": "text/x-python",
   "name": "python",
   "nbconvert_exporter": "python",
   "pygments_lexer": "ipython3",
   "version": "3.10.11"
  }
 },
 "nbformat": 4,
 "nbformat_minor": 5
}
