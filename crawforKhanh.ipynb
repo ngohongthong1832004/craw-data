{
 "cells": [
  {
   "cell_type": "code",
   "execution_count": 1,
   "id": "f1ac496c",
   "metadata": {},
   "outputs": [
    {
     "name": "stdout",
     "output_type": "stream",
     "text": [
      "Requirement already satisfied: beautifulsoup4 in c:\\users\\hp\\appdata\\local\\packages\\pythonsoftwarefoundation.python.3.10_qbz5n2kfra8p0\\localcache\\local-packages\\python310\\site-packages (4.12.0)\n",
      "Requirement already satisfied: soupsieve>1.2 in c:\\users\\hp\\appdata\\local\\packages\\pythonsoftwarefoundation.python.3.10_qbz5n2kfra8p0\\localcache\\local-packages\\python310\\site-packages (from beautifulsoup4) (2.4)\n"
     ]
    },
    {
     "name": "stderr",
     "output_type": "stream",
     "text": [
      "WARNING: Ignoring invalid distribution -sgiref (c:\\users\\hp\\appdata\\local\\packages\\pythonsoftwarefoundation.python.3.10_qbz5n2kfra8p0\\localcache\\local-packages\\python310\\site-packages)\n",
      "WARNING: Ignoring invalid distribution -sgiref (c:\\users\\hp\\appdata\\local\\packages\\pythonsoftwarefoundation.python.3.10_qbz5n2kfra8p0\\localcache\\local-packages\\python310\\site-packages)\n",
      "WARNING: Ignoring invalid distribution -sgiref (c:\\users\\hp\\appdata\\local\\packages\\pythonsoftwarefoundation.python.3.10_qbz5n2kfra8p0\\localcache\\local-packages\\python310\\site-packages)\n",
      "WARNING: Ignoring invalid distribution -sgiref (c:\\users\\hp\\appdata\\local\\packages\\pythonsoftwarefoundation.python.3.10_qbz5n2kfra8p0\\localcache\\local-packages\\python310\\site-packages)\n",
      "WARNING: Ignoring invalid distribution -sgiref (c:\\users\\hp\\appdata\\local\\packages\\pythonsoftwarefoundation.python.3.10_qbz5n2kfra8p0\\localcache\\local-packages\\python310\\site-packages)\n",
      "WARNING: Ignoring invalid distribution -sgiref (c:\\users\\hp\\appdata\\local\\packages\\pythonsoftwarefoundation.python.3.10_qbz5n2kfra8p0\\localcache\\local-packages\\python310\\site-packages)\n",
      "\n",
      "[notice] A new release of pip is available: 23.0.1 -> 23.2.1\n",
      "[notice] To update, run: C:\\Users\\HP\\AppData\\Local\\Microsoft\\WindowsApps\\PythonSoftwareFoundation.Python.3.10_qbz5n2kfra8p0\\python.exe -m pip install --upgrade pip\n"
     ]
    },
    {
     "name": "stdout",
     "output_type": "stream",
     "text": [
      "Requirement already satisfied: requests in c:\\users\\hp\\appdata\\local\\packages\\pythonsoftwarefoundation.python.3.10_qbz5n2kfra8p0\\localcache\\local-packages\\python310\\site-packages (2.28.1)\n",
      "Requirement already satisfied: urllib3<1.27,>=1.21.1 in c:\\users\\hp\\appdata\\local\\packages\\pythonsoftwarefoundation.python.3.10_qbz5n2kfra8p0\\localcache\\local-packages\\python310\\site-packages (from requests) (1.26.15)\n",
      "Requirement already satisfied: certifi>=2017.4.17 in c:\\users\\hp\\appdata\\local\\packages\\pythonsoftwarefoundation.python.3.10_qbz5n2kfra8p0\\localcache\\local-packages\\python310\\site-packages (from requests) (2022.12.7)\n",
      "Requirement already satisfied: charset-normalizer<3,>=2 in c:\\users\\hp\\appdata\\local\\packages\\pythonsoftwarefoundation.python.3.10_qbz5n2kfra8p0\\localcache\\local-packages\\python310\\site-packages (from requests) (2.1.1)\n",
      "Requirement already satisfied: idna<4,>=2.5 in c:\\users\\hp\\appdata\\local\\packages\\pythonsoftwarefoundation.python.3.10_qbz5n2kfra8p0\\localcache\\local-packages\\python310\\site-packages (from requests) (3.4)\n"
     ]
    },
    {
     "name": "stderr",
     "output_type": "stream",
     "text": [
      "WARNING: Ignoring invalid distribution -sgiref (c:\\users\\hp\\appdata\\local\\packages\\pythonsoftwarefoundation.python.3.10_qbz5n2kfra8p0\\localcache\\local-packages\\python310\\site-packages)\n",
      "WARNING: Ignoring invalid distribution -sgiref (c:\\users\\hp\\appdata\\local\\packages\\pythonsoftwarefoundation.python.3.10_qbz5n2kfra8p0\\localcache\\local-packages\\python310\\site-packages)\n",
      "WARNING: Ignoring invalid distribution -sgiref (c:\\users\\hp\\appdata\\local\\packages\\pythonsoftwarefoundation.python.3.10_qbz5n2kfra8p0\\localcache\\local-packages\\python310\\site-packages)\n",
      "WARNING: Ignoring invalid distribution -sgiref (c:\\users\\hp\\appdata\\local\\packages\\pythonsoftwarefoundation.python.3.10_qbz5n2kfra8p0\\localcache\\local-packages\\python310\\site-packages)\n",
      "WARNING: Ignoring invalid distribution -sgiref (c:\\users\\hp\\appdata\\local\\packages\\pythonsoftwarefoundation.python.3.10_qbz5n2kfra8p0\\localcache\\local-packages\\python310\\site-packages)\n",
      "WARNING: Ignoring invalid distribution -sgiref (c:\\users\\hp\\appdata\\local\\packages\\pythonsoftwarefoundation.python.3.10_qbz5n2kfra8p0\\localcache\\local-packages\\python310\\site-packages)\n",
      "\n",
      "[notice] A new release of pip is available: 23.0.1 -> 23.2.1\n",
      "[notice] To update, run: C:\\Users\\HP\\AppData\\Local\\Microsoft\\WindowsApps\\PythonSoftwareFoundation.Python.3.10_qbz5n2kfra8p0\\python.exe -m pip install --upgrade pip\n"
     ]
    },
    {
     "name": "stdout",
     "output_type": "stream",
     "text": [
      "Requirement already satisfied: html5lib in c:\\users\\hp\\appdata\\local\\packages\\pythonsoftwarefoundation.python.3.10_qbz5n2kfra8p0\\localcache\\local-packages\\python310\\site-packages (1.1)\n",
      "Requirement already satisfied: six>=1.9 in c:\\users\\hp\\appdata\\local\\packages\\pythonsoftwarefoundation.python.3.10_qbz5n2kfra8p0\\localcache\\local-packages\\python310\\site-packages (from html5lib) (1.16.0)\n",
      "Requirement already satisfied: webencodings in c:\\users\\hp\\appdata\\local\\packages\\pythonsoftwarefoundation.python.3.10_qbz5n2kfra8p0\\localcache\\local-packages\\python310\\site-packages (from html5lib) (0.5.1)\n"
     ]
    },
    {
     "name": "stderr",
     "output_type": "stream",
     "text": [
      "WARNING: Ignoring invalid distribution -sgiref (c:\\users\\hp\\appdata\\local\\packages\\pythonsoftwarefoundation.python.3.10_qbz5n2kfra8p0\\localcache\\local-packages\\python310\\site-packages)\n",
      "WARNING: Ignoring invalid distribution -sgiref (c:\\users\\hp\\appdata\\local\\packages\\pythonsoftwarefoundation.python.3.10_qbz5n2kfra8p0\\localcache\\local-packages\\python310\\site-packages)\n",
      "WARNING: Ignoring invalid distribution -sgiref (c:\\users\\hp\\appdata\\local\\packages\\pythonsoftwarefoundation.python.3.10_qbz5n2kfra8p0\\localcache\\local-packages\\python310\\site-packages)\n",
      "WARNING: Ignoring invalid distribution -sgiref (c:\\users\\hp\\appdata\\local\\packages\\pythonsoftwarefoundation.python.3.10_qbz5n2kfra8p0\\localcache\\local-packages\\python310\\site-packages)\n",
      "WARNING: Ignoring invalid distribution -sgiref (c:\\users\\hp\\appdata\\local\\packages\\pythonsoftwarefoundation.python.3.10_qbz5n2kfra8p0\\localcache\\local-packages\\python310\\site-packages)\n",
      "WARNING: Ignoring invalid distribution -sgiref (c:\\users\\hp\\appdata\\local\\packages\\pythonsoftwarefoundation.python.3.10_qbz5n2kfra8p0\\localcache\\local-packages\\python310\\site-packages)\n",
      "\n",
      "[notice] A new release of pip is available: 23.0.1 -> 23.2.1\n",
      "[notice] To update, run: C:\\Users\\HP\\AppData\\Local\\Microsoft\\WindowsApps\\PythonSoftwareFoundation.Python.3.10_qbz5n2kfra8p0\\python.exe -m pip install --upgrade pip\n"
     ]
    },
    {
     "name": "stdout",
     "output_type": "stream",
     "text": [
      "Requirement already satisfied: bs4 in c:\\users\\hp\\appdata\\local\\packages\\pythonsoftwarefoundation.python.3.10_qbz5n2kfra8p0\\localcache\\local-packages\\python310\\site-packages (0.0.1)\n",
      "Requirement already satisfied: beautifulsoup4 in c:\\users\\hp\\appdata\\local\\packages\\pythonsoftwarefoundation.python.3.10_qbz5n2kfra8p0\\localcache\\local-packages\\python310\\site-packages (from bs4) (4.12.0)\n",
      "Requirement already satisfied: soupsieve>1.2 in c:\\users\\hp\\appdata\\local\\packages\\pythonsoftwarefoundation.python.3.10_qbz5n2kfra8p0\\localcache\\local-packages\\python310\\site-packages (from beautifulsoup4->bs4) (2.4)\n"
     ]
    },
    {
     "name": "stderr",
     "output_type": "stream",
     "text": [
      "WARNING: Ignoring invalid distribution -sgiref (c:\\users\\hp\\appdata\\local\\packages\\pythonsoftwarefoundation.python.3.10_qbz5n2kfra8p0\\localcache\\local-packages\\python310\\site-packages)\n",
      "WARNING: Ignoring invalid distribution -sgiref (c:\\users\\hp\\appdata\\local\\packages\\pythonsoftwarefoundation.python.3.10_qbz5n2kfra8p0\\localcache\\local-packages\\python310\\site-packages)\n",
      "WARNING: Ignoring invalid distribution -sgiref (c:\\users\\hp\\appdata\\local\\packages\\pythonsoftwarefoundation.python.3.10_qbz5n2kfra8p0\\localcache\\local-packages\\python310\\site-packages)\n",
      "WARNING: Ignoring invalid distribution -sgiref (c:\\users\\hp\\appdata\\local\\packages\\pythonsoftwarefoundation.python.3.10_qbz5n2kfra8p0\\localcache\\local-packages\\python310\\site-packages)\n",
      "WARNING: Ignoring invalid distribution -sgiref (c:\\users\\hp\\appdata\\local\\packages\\pythonsoftwarefoundation.python.3.10_qbz5n2kfra8p0\\localcache\\local-packages\\python310\\site-packages)\n",
      "WARNING: Ignoring invalid distribution -sgiref (c:\\users\\hp\\appdata\\local\\packages\\pythonsoftwarefoundation.python.3.10_qbz5n2kfra8p0\\localcache\\local-packages\\python310\\site-packages)\n",
      "\n",
      "[notice] A new release of pip is available: 23.0.1 -> 23.2.1\n",
      "[notice] To update, run: C:\\Users\\HP\\AppData\\Local\\Microsoft\\WindowsApps\\PythonSoftwareFoundation.Python.3.10_qbz5n2kfra8p0\\python.exe -m pip install --upgrade pip\n"
     ]
    }
   ],
   "source": [
    "!pip install beautifulsoup4\n",
    "!pip install requests\n",
    "!pip install html5lib\n",
    "!pip install bs4"
   ]
  },
  {
   "cell_type": "code",
   "execution_count": 2,
   "id": "46c6274d",
   "metadata": {},
   "outputs": [],
   "source": [
    "from bs4 import BeautifulSoup\n",
    "import json\n",
    "import requests\n"
   ]
  },
  {
   "cell_type": "code",
   "execution_count": 3,
   "id": "1d29be7b",
   "metadata": {},
   "outputs": [],
   "source": [
    "URL = \"http://t0307.store.nhanh.vn/\"\n",
    "headers = {'User-Agent': \"Mozilla/5.0 (Windows NT 10.0; Win64; x64) AppleWebKit/537.36 (KHTML, like Gecko) Chrome/42.0.2311.135 Safari/537.36 Edge/12.246\"}\n",
    "# Here the user agent is for Edge browser on windows 10. You can find your browser user agent from the above given link.\n",
    "r = requests.get(url=URL, headers=headers)\n"
   ]
  },
  {
   "cell_type": "code",
   "execution_count": 4,
   "id": "59c0bfa3",
   "metadata": {},
   "outputs": [],
   "source": [
    "JSON_arr = []\n",
    "soup = BeautifulSoup(r.content, 'html5lib') # If this line causes an error, run 'pip install html5lib' or install html5lib\n",
    "# print(soup.prettify())\n"
   ]
  },
  {
   "cell_type": "code",
   "execution_count": 5,
   "id": "4921131c",
   "metadata": {},
   "outputs": [],
   "source": [
    "source = soup.find(\"ul\", class_ = \"list_sp tp_menu\")\n",
    "# print(source)"
   ]
  },
  {
   "cell_type": "code",
   "execution_count": 71,
   "id": "0d16954d",
   "metadata": {},
   "outputs": [],
   "source": [
    "data = []\n",
    "\n",
    "genre  = {\n",
    "    \"type\": \"\",\n",
    "    \"data\" : []\n",
    "}\n",
    "\n",
    "product = {\n",
    "    \"name\": \"\",\n",
    "    \"imgPath\": \"\",\n",
    "    \"price\": \"\",\n",
    "    \"size\" : [],\n",
    "    \"status\" : \"\"\n",
    "}\n",
    "\n",
    "# print(source)\n",
    "test  = source.findAll(\"a\")\n",
    "for i in test:\n",
    "    name  = i.text.strip()\n",
    "    link  = i[\"href\"]\n",
    "\n",
    "    genre[\"type\"] = name\n",
    "\n",
    "    link = \"http://t0307.store.nhanh.vn\" + link\n",
    "    r = requests.get(url = link)\n",
    "    pageProduct = BeautifulSoup(r.content, 'html5lib')\n",
    "    listItem = pageProduct.findAll(\"div\", class_ = \"product cate-product text-center\")\n",
    "    for i in listItem:\n",
    "        product[\"imgPath\"] = i.find(\"img\")[\"data-src\"]\n",
    "        product[\"name\"] = i.find(\"a\", class_ = \"product-name\").text.strip()\n",
    "        linkItem = \"http://t0307.store.nhanh.vn\" + i.find(\"a\", class_ = \"product-name\")[\"href\"]\n",
    "        product[\"price\"] = i.find(\"span\", class_ = \"price tp_product_price\").text.strip()\n",
    "        genre[\"data\"].append(product)\n",
    "        r = requests.get(url = linkItem)\n",
    "        pageItem = BeautifulSoup(r.content, 'html5lib')\n",
    "        product[\"status\"] = pageItem.find(\"div\", class_ = \"status\").find(\"span\", class_ = \"value\").text.strip()\n",
    "        wrap_size = pageItem.find(\"div\", class_ = \"sizenew reqnew\")\n",
    "        if wrap_size is not None:\n",
    "            sizes = wrap_size.findAll(\"a\")\n",
    "            for i in sizes:\n",
    "                product[\"size\"].append(i.text.strip())\n",
    "        product = {\n",
    "            \"name\": \"\",\n",
    "            \"imgPath\": \"\",\n",
    "            \"price\": \"\",\n",
    "            \"size\" : [],\n",
    "            \"status\" : \"\"\n",
    "        }\n",
    "\n",
    "\n",
    "    data.append(genre)\n",
    "    genre  = {\n",
    "        \"type\": \"\",\n",
    "        \"data\" : []\n",
    "    }\n",
    "# print(data)\n",
    "\n",
    "# json_string = json.dumps(data, indent=4)\n",
    "\n",
    "# # Writing to sample.json\n",
    "# with open(\"sample.json\", \"w\") as outfile:\n",
    "#     outfile.write(json_string)\n",
    "\n",
    "with open('sample.json', 'a',encoding='utf-8') as f:\n",
    "    json.dump(data, f, indent=4, ensure_ascii=False)\n"
   ]
  },
  {
   "cell_type": "markdown",
   "id": "9b1021e7",
   "metadata": {},
   "source": []
  },
  {
   "cell_type": "markdown",
   "id": "e647e850",
   "metadata": {},
   "source": []
  },
  {
   "cell_type": "code",
   "execution_count": 31,
   "id": "ac84f254",
   "metadata": {},
   "outputs": [
    {
     "name": "stdout",
     "output_type": "stream",
     "text": [
      "None\n",
      "Asterix & Obelix: The Middle Kingdom\n",
      "None\n",
      "Robots\n",
      "None\n",
      "White Men Can't Jump\n",
      "None\n",
      "Prince Andrew: Banished\n",
      "None\n",
      "Arini by Love.inc\n",
      "None\n",
      "Adventures in Game Chasing\n",
      "None\n",
      "Mutzenbacher\n",
      "None\n",
      "AUM!\n",
      "None\n",
      "Phantom Project\n",
      "None\n",
      "War of the Worlds: The Attack\n",
      "None\n",
      "The Mount 2\n",
      "None\n",
      "Stay Out of the Basement\n",
      "None\n",
      "Caviar\n",
      "None\n",
      "The Blue Caftan\n",
      "None\n",
      "Full River Red\n",
      "None\n",
      "Sweat\n",
      "None\n",
      "CT Fletcher: My Magnificent Obsession\n",
      "None\n",
      "The Taste of Money\n",
      "None\n",
      "Missing 411: The U.F.O. Connection\n",
      "None\n",
      "Tupac: Resurrection\n",
      "None\n",
      "Ghost Book Obakezukan\n",
      "None\n",
      "Big George Foreman: The Miraculous Story of the Once and Future Heavyweight Champion of the World\n",
      "None\n",
      "The Journey: A Music Special from Andrea Bocelli\n",
      "None\n",
      "Just Jake\n",
      "None\n",
      "That Great British Documentary\n",
      "None\n",
      "Lucas Waterfill: Public Inconvenience\n",
      "None\n",
      "The Nutcracker and The Magic Flute\n",
      "None\n",
      "BlackBerry\n",
      "None\n",
      "Moving On\n",
      "None\n",
      "Zarna Garg: One in a Billion\n",
      "None\n",
      "Polite Society\n",
      "None\n",
      "Anna Nicole Smith: You Don't Know Me\n"
     ]
    }
   ],
   "source": [
    "listItemFilm = source.findAll('div', attrs = 'flw-item')\n",
    "for item in listItemFilm :\n",
    "    link = \"https://hdtoday.tv\" + item.find(\"a\", attrs = \"film-poster-ahref flw-item-tip\")[\"href\"]\n",
    "    # print(link)\n",
    "    r = requests.get(url = link)\n",
    "    pageFilm = BeautifulSoup(r.content, 'html5lib')\n",
    "    \n",
    "    film = {}\n",
    "    \n",
    "    poster = pageFilm.find(\"img\", class_=\"film-poster-img\")[\"src\"]\n",
    "    des = pageFilm.find(\"div\", class_=\"description\").text.strip()\n",
    "    name = pageFilm.find(\"h2\", class_=\"heading-name\").a.text\n",
    "    \n",
    "    film[\"poster\"] = poster\n",
    "    \n",
    "    film[\"name\"] = name\n",
    "    film[\"des\"] = des\n",
    "\n",
    "    JSON_arr.append(film)\n",
    "\n",
    "\n",
    "    # linkEsp = pageFilm.find(\"div\" , class_ = \"ss-episodes\")\n",
    "    \n",
    "    print(linkEsp)\n",
    "    # for esp in linkEsp :\n",
    "    #     print(esp)\n",
    "\n",
    "    print(name)\n",
    "    # print(\"==============================================================================================================\")"
   ]
  },
  {
   "cell_type": "code",
   "execution_count": null,
   "id": "cc023592",
   "metadata": {},
   "outputs": [],
   "source": [
    "with open(\"learnRequests-19-5-2023.json\",\"w\") as file:\n",
    "    json.dump(JSON_arr, file, indent = 4)"
   ]
  },
  {
   "cell_type": "code",
   "execution_count": null,
   "id": "f8bf7fe7",
   "metadata": {},
   "outputs": [],
   "source": []
  }
 ],
 "metadata": {
  "kernelspec": {
   "display_name": "Python 3 (ipykernel)",
   "language": "python",
   "name": "python3"
  },
  "language_info": {
   "codemirror_mode": {
    "name": "ipython",
    "version": 3
   },
   "file_extension": ".py",
   "mimetype": "text/x-python",
   "name": "python",
   "nbconvert_exporter": "python",
   "pygments_lexer": "ipython3",
   "version": "3.10.11"
  }
 },
 "nbformat": 4,
 "nbformat_minor": 5
}
