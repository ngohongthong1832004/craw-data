{
 "cells": [
  {
   "cell_type": "code",
   "execution_count": 106,
   "id": "0002d179",
   "metadata": {
    "scrolled": true
   },
   "outputs": [
    {
     "name": "stdout",
     "output_type": "stream",
     "text": [
      "Requirement already satisfied: selenium in d:\\anaconda\\lib\\site-packages (4.9.1)\n",
      "Requirement already satisfied: trio~=0.17 in d:\\anaconda\\lib\\site-packages (from selenium) (0.22.0)\n",
      "Requirement already satisfied: urllib3[socks]<3,>=1.26 in d:\\anaconda\\lib\\site-packages (from selenium) (1.26.11)\n",
      "Requirement already satisfied: trio-websocket~=0.9 in d:\\anaconda\\lib\\site-packages (from selenium) (0.10.2)\n",
      "Requirement already satisfied: certifi>=2021.10.8 in d:\\anaconda\\lib\\site-packages (from selenium) (2022.9.14)\n",
      "Requirement already satisfied: outcome in d:\\anaconda\\lib\\site-packages (from trio~=0.17->selenium) (1.2.0)\n",
      "Requirement already satisfied: sortedcontainers in d:\\anaconda\\lib\\site-packages (from trio~=0.17->selenium) (2.4.0)\n",
      "Requirement already satisfied: async-generator>=1.9 in d:\\anaconda\\lib\\site-packages (from trio~=0.17->selenium) (1.10)\n",
      "Requirement already satisfied: attrs>=19.2.0 in d:\\anaconda\\lib\\site-packages (from trio~=0.17->selenium) (21.4.0)\n",
      "Requirement already satisfied: idna in d:\\anaconda\\lib\\site-packages (from trio~=0.17->selenium) (3.3)\n",
      "Requirement already satisfied: cffi>=1.14 in d:\\anaconda\\lib\\site-packages (from trio~=0.17->selenium) (1.15.1)\n",
      "Requirement already satisfied: exceptiongroup>=1.0.0rc9 in d:\\anaconda\\lib\\site-packages (from trio~=0.17->selenium) (1.1.1)\n",
      "Requirement already satisfied: sniffio in d:\\anaconda\\lib\\site-packages (from trio~=0.17->selenium) (1.2.0)\n",
      "Requirement already satisfied: wsproto>=0.14 in d:\\anaconda\\lib\\site-packages (from trio-websocket~=0.9->selenium) (1.2.0)\n",
      "Requirement already satisfied: PySocks!=1.5.7,<2.0,>=1.5.6 in d:\\anaconda\\lib\\site-packages (from urllib3[socks]<3,>=1.26->selenium) (1.7.1)\n",
      "Requirement already satisfied: pycparser in d:\\anaconda\\lib\\site-packages (from cffi>=1.14->trio~=0.17->selenium) (2.21)\n",
      "Requirement already satisfied: h11<1,>=0.9.0 in d:\\anaconda\\lib\\site-packages (from wsproto>=0.14->trio-websocket~=0.9->selenium) (0.14.0)\n"
     ]
    }
   ],
   "source": [
    "!pip install selenium\n",
    "\n",
    "\n",
    "\n"
   ]
  },
  {
   "cell_type": "code",
   "execution_count": 107,
   "id": "f4dd1306",
   "metadata": {},
   "outputs": [],
   "source": [
    "from selenium import webdriver\n",
    "from selenium.webdriver.common.keys import Keys\n",
    "from selenium.webdriver.common.by import By"
   ]
  },
  {
   "cell_type": "code",
   "execution_count": 108,
   "id": "f9f028e1",
   "metadata": {},
   "outputs": [],
   "source": [
    "from selenium.webdriver.chrome.service import Service\n",
    "from selenium import webdriver\n",
    "import time\n",
    "import json"
   ]
  },
  {
   "cell_type": "code",
   "execution_count": 109,
   "id": "60872bcc",
   "metadata": {},
   "outputs": [],
   "source": [
    "service = Service(executable_path=\"/path/to/chromedriver\")\n",
    "\n",
    "arrJSON = []"
   ]
  },
  {
   "cell_type": "code",
   "execution_count": 105,
   "id": "ea9a4094",
   "metadata": {},
   "outputs": [
    {
     "name": "stdout",
     "output_type": "stream",
     "text": [
      "Mutzenbacher\n",
      " done !!\n",
      "AUM!\n",
      " done !!\n",
      "Phantom Project\n",
      " done !!\n",
      "Page 1 done !!!\n",
      "Organ Trail\n",
      " done !!\n",
      "One of These Days\n",
      " done !!\n",
      "Marry F*** Kill\n",
      " done !!\n",
      "Page 2 done !!!\n"
     ]
    }
   ],
   "source": [
    "for i in range(1, 3):\n",
    "    driver = webdriver.Chrome()\n",
    "    driver.get(f\"https://hdtoday.tv/movie?page={i}\")\n",
    "    div_elements = driver.find_elements(By.XPATH, '//*[@id=\"main-wrapper\"]/div/section/div[5]/div/div/div/a')\n",
    "    arrLink = [a.get_attribute(\"href\") for a in div_elements[3:7]]\n",
    "    for link in arrLink[:3]:\n",
    "        driver = webdriver.Chrome()\n",
    "        driver.get(link)\n",
    "        \n",
    "        poster = driver.find_element(By.CLASS_NAME,\"film-poster-img\").get_attribute(\"src\")\n",
    "        name = driver.find_element(By.CLASS_NAME, \"heading-name\").text\n",
    "        description = driver.find_element(By.CLASS_NAME, \"description\").text\n",
    "    \n",
    "        jsonFilm = {\"img\":poster,\"name\":name,\"description\":description}\n",
    "        arrJSON.append(jsonFilm)\n",
    "        print(name + \"\\n done !!\")\n",
    "        driver.quit()\n",
    "        \n",
    "    print(f\"Page {i} done !!!\")\n",
    "    driver.quit()\n",
    "\n",
    "    \n",
    "    \n",
    "    \n",
    "with open('testSelenium-19-5-2023-v2.json', 'w') as file:\n",
    "    json.dump(arrJSON, file, indent = 4)"
   ]
  },
  {
   "cell_type": "code",
   "execution_count": null,
   "id": "22266438",
   "metadata": {},
   "outputs": [],
   "source": []
  },
  {
   "cell_type": "code",
   "execution_count": null,
   "id": "fdf2fe1f",
   "metadata": {},
   "outputs": [],
   "source": []
  },
  {
   "cell_type": "code",
   "execution_count": 34,
   "id": "8fbb375c",
   "metadata": {},
   "outputs": [],
   "source": []
  },
  {
   "cell_type": "code",
   "execution_count": null,
   "id": "127d7b00",
   "metadata": {},
   "outputs": [],
   "source": []
  }
 ],
 "metadata": {
  "kernelspec": {
   "display_name": "Python 3 (ipykernel)",
   "language": "python",
   "name": "python3"
  },
  "language_info": {
   "codemirror_mode": {
    "name": "ipython",
    "version": 3
   },
   "file_extension": ".py",
   "mimetype": "text/x-python",
   "name": "python",
   "nbconvert_exporter": "python",
   "pygments_lexer": "ipython3",
   "version": "3.9.13"
  }
 },
 "nbformat": 4,
 "nbformat_minor": 5
}
